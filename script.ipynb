{
 "cells": [
  {
   "cell_type": "markdown",
   "metadata": {},
   "source": [
    "Importacion de librerias para poder extraer campos de csv"
   ]
  },
  {
   "cell_type": "code",
   "execution_count": 1,
   "metadata": {},
   "outputs": [],
   "source": [
    "import pandas as pd\n",
    "import numpy as np\n",
    "# Convertir cadenas de texto en estructuras de datos \n",
    "import ast \n",
    "# Realizar analisis estadisticos\n",
    "import matplotlib.pyplot as plt\n",
    "# Para la realizacion de analisis de correlaciones\n",
    "import seaborn as sns\n"
   ]
  },
  {
   "cell_type": "code",
   "execution_count": 2,
   "metadata": {},
   "outputs": [
    {
     "name": "stdout",
     "output_type": "stream",
     "text": [
      "                                                cast  \\\n",
      "0  [{'cast_id': 14, 'character': 'Woody (voice)',...   \n",
      "1  [{'cast_id': 1, 'character': 'Alan Parrish', '...   \n",
      "2  [{'cast_id': 2, 'character': 'Max Goldman', 'c...   \n",
      "3  [{'cast_id': 1, 'character': \"Savannah 'Vannah...   \n",
      "4  [{'cast_id': 1, 'character': 'George Banks', '...   \n",
      "\n",
      "                                                crew     id  \n",
      "0  [{'credit_id': '52fe4284c3a36847f8024f49', 'de...    862  \n",
      "1  [{'credit_id': '52fe44bfc3a36847f80a7cd1', 'de...   8844  \n",
      "2  [{'credit_id': '52fe466a9251416c75077a89', 'de...  15602  \n",
      "3  [{'credit_id': '52fe44779251416c91011acb', 'de...  31357  \n",
      "4  [{'credit_id': '52fe44959251416c75039ed7', 'de...  11862  \n"
     ]
    }
   ],
   "source": [
    "#Leer el archivo CSV\n",
    "file_path = r'C:\\Users\\walter\\Desktop\\N1_PI\\PI_IRENE\\Datos_originales\\datos_originales\\credits.csv'\n",
    "df_credits = pd.read_csv(file_path)\n",
    "    \n",
    "# Mostrar las primeras filas del DataFrame para entender su estructura\n",
    "print(df_credits.head())"
   ]
  },
  {
   "cell_type": "code",
   "execution_count": 3,
   "metadata": {},
   "outputs": [
    {
     "name": "stderr",
     "output_type": "stream",
     "text": [
      "C:\\Users\\walter\\AppData\\Local\\Temp\\ipykernel_2312\\2844223169.py:2: DtypeWarning: Columns (10) have mixed types. Specify dtype option on import or set low_memory=False.\n",
      "  df = pd.read_csv(file_path)\n"
     ]
    },
    {
     "name": "stdout",
     "output_type": "stream",
     "text": [
      "   adult                              belongs_to_collection    budget  \\\n",
      "0  False  {'id': 10194, 'name': 'Toy Story Collection', ...  30000000   \n",
      "1  False                                                NaN  65000000   \n",
      "2  False  {'id': 119050, 'name': 'Grumpy Old Men Collect...         0   \n",
      "3  False                                                NaN  16000000   \n",
      "4  False  {'id': 96871, 'name': 'Father of the Bride Col...         0   \n",
      "\n",
      "                                              genres  \\\n",
      "0  [{'id': 16, 'name': 'Animation'}, {'id': 35, '...   \n",
      "1  [{'id': 12, 'name': 'Adventure'}, {'id': 14, '...   \n",
      "2  [{'id': 10749, 'name': 'Romance'}, {'id': 35, ...   \n",
      "3  [{'id': 35, 'name': 'Comedy'}, {'id': 18, 'nam...   \n",
      "4                     [{'id': 35, 'name': 'Comedy'}]   \n",
      "\n",
      "                               homepage     id    imdb_id original_language  \\\n",
      "0  http://toystory.disney.com/toy-story    862  tt0114709                en   \n",
      "1                                   NaN   8844  tt0113497                en   \n",
      "2                                   NaN  15602  tt0113228                en   \n",
      "3                                   NaN  31357  tt0114885                en   \n",
      "4                                   NaN  11862  tt0113041                en   \n",
      "\n",
      "                original_title  \\\n",
      "0                    Toy Story   \n",
      "1                      Jumanji   \n",
      "2             Grumpier Old Men   \n",
      "3            Waiting to Exhale   \n",
      "4  Father of the Bride Part II   \n",
      "\n",
      "                                            overview  ... release_date  \\\n",
      "0  Led by Woody, Andy's toys live happily in his ...  ...   1995-10-30   \n",
      "1  When siblings Judy and Peter discover an encha...  ...   1995-12-15   \n",
      "2  A family wedding reignites the ancient feud be...  ...   1995-12-22   \n",
      "3  Cheated on, mistreated and stepped on, the wom...  ...   1995-12-22   \n",
      "4  Just when George Banks has recovered from his ...  ...   1995-02-10   \n",
      "\n",
      "       revenue runtime                                   spoken_languages  \\\n",
      "0  373554033.0    81.0           [{'iso_639_1': 'en', 'name': 'English'}]   \n",
      "1  262797249.0   104.0  [{'iso_639_1': 'en', 'name': 'English'}, {'iso...   \n",
      "2          0.0   101.0           [{'iso_639_1': 'en', 'name': 'English'}]   \n",
      "3   81452156.0   127.0           [{'iso_639_1': 'en', 'name': 'English'}]   \n",
      "4   76578911.0   106.0           [{'iso_639_1': 'en', 'name': 'English'}]   \n",
      "\n",
      "     status                                            tagline  \\\n",
      "0  Released                                                NaN   \n",
      "1  Released          Roll the dice and unleash the excitement!   \n",
      "2  Released  Still Yelling. Still Fighting. Still Ready for...   \n",
      "3  Released  Friends are the people who let you be yourself...   \n",
      "4  Released  Just When His World Is Back To Normal... He's ...   \n",
      "\n",
      "                         title  video vote_average vote_count  \n",
      "0                    Toy Story  False          7.7     5415.0  \n",
      "1                      Jumanji  False          6.9     2413.0  \n",
      "2             Grumpier Old Men  False          6.5       92.0  \n",
      "3            Waiting to Exhale  False          6.1       34.0  \n",
      "4  Father of the Bride Part II  False          5.7      173.0  \n",
      "\n",
      "[5 rows x 24 columns]\n"
     ]
    }
   ],
   "source": [
    "\n",
    "file_path = r'C:\\Users\\walter\\Desktop\\N1_PI\\PI_IRENE\\Datos_originales\\datos_originales\\movies_dataset.csv'\n",
    "df = pd.read_csv(file_path)\n",
    "    \n",
    "# Mostrar las primeras filas del DataFrame para entender su estructura\n",
    "print(df.head())\n"
   ]
  },
  {
   "cell_type": "markdown",
   "metadata": {},
   "source": [
    "Desanidando y limpieza de datos crudos."
   ]
  },
  {
   "cell_type": "code",
   "execution_count": 4,
   "metadata": {},
   "outputs": [
    {
     "name": "stderr",
     "output_type": "stream",
     "text": [
      "C:\\Users\\walter\\AppData\\Local\\Temp\\ipykernel_2312\\3762838841.py:3: DtypeWarning: Columns (10) have mixed types. Specify dtype option on import or set low_memory=False.\n",
      "  df_movies = pd.read_csv(file_path_movies)\n",
      "C:\\Users\\walter\\AppData\\Local\\Temp\\ipykernel_2312\\3762838841.py:7: DtypeWarning: Columns (10) have mixed types. Specify dtype option on import or set low_memory=False.\n",
      "  df_credits = pd.read_csv(file_path_credits)\n"
     ]
    },
    {
     "name": "stdout",
     "output_type": "stream",
     "text": [
      "Primeras filas del DataFrame df_movies después de rellenar valores nulos, eliminar columnas y formatear las fechas:\n",
      "                               belongs_to_collection      budget  \\\n",
      "0  {'id': 10194, 'name': 'Toy Story Collection', ...  30000000.0   \n",
      "1                                                NaN  65000000.0   \n",
      "2  {'id': 119050, 'name': 'Grumpy Old Men Collect...         0.0   \n",
      "3                                                NaN  16000000.0   \n",
      "4  {'id': 96871, 'name': 'Father of the Bride Col...         0.0   \n",
      "\n",
      "                                              genres     id original_language  \\\n",
      "0  [{'id': 16, 'name': 'Animation'}, {'id': 35, '...    862                en   \n",
      "1  [{'id': 12, 'name': 'Adventure'}, {'id': 14, '...   8844                en   \n",
      "2  [{'id': 10749, 'name': 'Romance'}, {'id': 35, ...  15602                en   \n",
      "3  [{'id': 35, 'name': 'Comedy'}, {'id': 18, 'nam...  31357                en   \n",
      "4                     [{'id': 35, 'name': 'Comedy'}]  11862                en   \n",
      "\n",
      "                                            overview popularity  \\\n",
      "0  Led by Woody, Andy's toys live happily in his ...  21.946943   \n",
      "1  When siblings Judy and Peter discover an encha...  17.015539   \n",
      "2  A family wedding reignites the ancient feud be...    11.7129   \n",
      "3  Cheated on, mistreated and stepped on, the wom...   3.859495   \n",
      "4  Just when George Banks has recovered from his ...   8.387519   \n",
      "\n",
      "                                production_companies  \\\n",
      "0     [{'name': 'Pixar Animation Studios', 'id': 3}]   \n",
      "1  [{'name': 'TriStar Pictures', 'id': 559}, {'na...   \n",
      "2  [{'name': 'Warner Bros.', 'id': 6194}, {'name'...   \n",
      "3  [{'name': 'Twentieth Century Fox Film Corporat...   \n",
      "4  [{'name': 'Sandollar Productions', 'id': 5842}...   \n",
      "\n",
      "                                production_countries release_date  \\\n",
      "0  [{'iso_3166_1': 'US', 'name': 'United States o...   1995-10-30   \n",
      "1  [{'iso_3166_1': 'US', 'name': 'United States o...   1995-12-15   \n",
      "2  [{'iso_3166_1': 'US', 'name': 'United States o...   1995-12-22   \n",
      "3  [{'iso_3166_1': 'US', 'name': 'United States o...   1995-12-22   \n",
      "4  [{'iso_3166_1': 'US', 'name': 'United States o...   1995-02-10   \n",
      "\n",
      "       revenue  runtime                                   spoken_languages  \\\n",
      "0  373554033.0     81.0           [{'iso_639_1': 'en', 'name': 'English'}]   \n",
      "1  262797249.0    104.0  [{'iso_639_1': 'en', 'name': 'English'}, {'iso...   \n",
      "2          0.0    101.0           [{'iso_639_1': 'en', 'name': 'English'}]   \n",
      "3   81452156.0    127.0           [{'iso_639_1': 'en', 'name': 'English'}]   \n",
      "4   76578911.0    106.0           [{'iso_639_1': 'en', 'name': 'English'}]   \n",
      "\n",
      "     status                                            tagline  \\\n",
      "0  Released                                                NaN   \n",
      "1  Released          Roll the dice and unleash the excitement!   \n",
      "2  Released  Still Yelling. Still Fighting. Still Ready for...   \n",
      "3  Released  Friends are the people who let you be yourself...   \n",
      "4  Released  Just When His World Is Back To Normal... He's ...   \n",
      "\n",
      "                         title  vote_average  vote_count  release_year  \\\n",
      "0                    Toy Story           7.7      5415.0        1995.0   \n",
      "1                      Jumanji           6.9      2413.0        1995.0   \n",
      "2             Grumpier Old Men           6.5        92.0        1995.0   \n",
      "3            Waiting to Exhale           6.1        34.0        1995.0   \n",
      "4  Father of the Bride Part II           5.7       173.0        1995.0   \n",
      "\n",
      "      return  \n",
      "0  12.451801  \n",
      "1   4.043035  \n",
      "2   0.000000  \n",
      "3   5.090760  \n",
      "4   0.000000  \n",
      "\n",
      "Primeras filas del DataFrame df_credits:\n",
      "   adult                              belongs_to_collection    budget  \\\n",
      "0  False  {'id': 10194, 'name': 'Toy Story Collection', ...  30000000   \n",
      "1  False                                                NaN  65000000   \n",
      "2  False  {'id': 119050, 'name': 'Grumpy Old Men Collect...         0   \n",
      "3  False                                                NaN  16000000   \n",
      "4  False  {'id': 96871, 'name': 'Father of the Bride Col...         0   \n",
      "\n",
      "                                              genres  \\\n",
      "0  [{'id': 16, 'name': 'Animation'}, {'id': 35, '...   \n",
      "1  [{'id': 12, 'name': 'Adventure'}, {'id': 14, '...   \n",
      "2  [{'id': 10749, 'name': 'Romance'}, {'id': 35, ...   \n",
      "3  [{'id': 35, 'name': 'Comedy'}, {'id': 18, 'nam...   \n",
      "4                     [{'id': 35, 'name': 'Comedy'}]   \n",
      "\n",
      "                               homepage     id    imdb_id original_language  \\\n",
      "0  http://toystory.disney.com/toy-story    862  tt0114709                en   \n",
      "1                                   NaN   8844  tt0113497                en   \n",
      "2                                   NaN  15602  tt0113228                en   \n",
      "3                                   NaN  31357  tt0114885                en   \n",
      "4                                   NaN  11862  tt0113041                en   \n",
      "\n",
      "                original_title  \\\n",
      "0                    Toy Story   \n",
      "1                      Jumanji   \n",
      "2             Grumpier Old Men   \n",
      "3            Waiting to Exhale   \n",
      "4  Father of the Bride Part II   \n",
      "\n",
      "                                            overview  ... release_date  \\\n",
      "0  Led by Woody, Andy's toys live happily in his ...  ...   1995-10-30   \n",
      "1  When siblings Judy and Peter discover an encha...  ...   1995-12-15   \n",
      "2  A family wedding reignites the ancient feud be...  ...   1995-12-22   \n",
      "3  Cheated on, mistreated and stepped on, the wom...  ...   1995-12-22   \n",
      "4  Just when George Banks has recovered from his ...  ...   1995-02-10   \n",
      "\n",
      "       revenue runtime                                   spoken_languages  \\\n",
      "0  373554033.0    81.0           [{'iso_639_1': 'en', 'name': 'English'}]   \n",
      "1  262797249.0   104.0  [{'iso_639_1': 'en', 'name': 'English'}, {'iso...   \n",
      "2          0.0   101.0           [{'iso_639_1': 'en', 'name': 'English'}]   \n",
      "3   81452156.0   127.0           [{'iso_639_1': 'en', 'name': 'English'}]   \n",
      "4   76578911.0   106.0           [{'iso_639_1': 'en', 'name': 'English'}]   \n",
      "\n",
      "     status                                            tagline  \\\n",
      "0  Released                                                NaN   \n",
      "1  Released          Roll the dice and unleash the excitement!   \n",
      "2  Released  Still Yelling. Still Fighting. Still Ready for...   \n",
      "3  Released  Friends are the people who let you be yourself...   \n",
      "4  Released  Just When His World Is Back To Normal... He's ...   \n",
      "\n",
      "                         title  video vote_average vote_count  \n",
      "0                    Toy Story  False          7.7     5415.0  \n",
      "1                      Jumanji  False          6.9     2413.0  \n",
      "2             Grumpier Old Men  False          6.5       92.0  \n",
      "3            Waiting to Exhale  False          6.1       34.0  \n",
      "4  Father of the Bride Part II  False          5.7      173.0  \n",
      "\n",
      "[5 rows x 24 columns]\n",
      "\n",
      "DataFrame combinado:\n",
      "                               belongs_to_collection      budget  \\\n",
      "0  {'id': 10194, 'name': 'Toy Story Collection', ...  30000000.0   \n",
      "1                                                NaN  65000000.0   \n",
      "2  {'id': 119050, 'name': 'Grumpy Old Men Collect...         0.0   \n",
      "3                                                NaN  16000000.0   \n",
      "4  {'id': 96871, 'name': 'Father of the Bride Col...         0.0   \n",
      "\n",
      "                                              genres     id original_language  \\\n",
      "0  [{'id': 16, 'name': 'Animation'}, {'id': 35, '...    862                en   \n",
      "1  [{'id': 12, 'name': 'Adventure'}, {'id': 14, '...   8844                en   \n",
      "2  [{'id': 10749, 'name': 'Romance'}, {'id': 35, ...  15602                en   \n",
      "3  [{'id': 35, 'name': 'Comedy'}, {'id': 18, 'nam...  31357                en   \n",
      "4                     [{'id': 35, 'name': 'Comedy'}]  11862                en   \n",
      "\n",
      "                                            overview popularity  \\\n",
      "0  Led by Woody, Andy's toys live happily in his ...  21.946943   \n",
      "1  When siblings Judy and Peter discover an encha...  17.015539   \n",
      "2  A family wedding reignites the ancient feud be...    11.7129   \n",
      "3  Cheated on, mistreated and stepped on, the wom...   3.859495   \n",
      "4  Just when George Banks has recovered from his ...   8.387519   \n",
      "\n",
      "                                production_companies  \\\n",
      "0     [{'name': 'Pixar Animation Studios', 'id': 3}]   \n",
      "1  [{'name': 'TriStar Pictures', 'id': 559}, {'na...   \n",
      "2  [{'name': 'Warner Bros.', 'id': 6194}, {'name'...   \n",
      "3  [{'name': 'Twentieth Century Fox Film Corporat...   \n",
      "4  [{'name': 'Sandollar Productions', 'id': 5842}...   \n",
      "\n",
      "                                production_countries  release_date  ...  \\\n",
      "0  [{'iso_3166_1': 'US', 'name': 'United States o...    1995-10-30  ...   \n",
      "1  [{'iso_3166_1': 'US', 'name': 'United States o...    1995-12-15  ...   \n",
      "2  [{'iso_3166_1': 'US', 'name': 'United States o...    1995-12-22  ...   \n",
      "3  [{'iso_3166_1': 'US', 'name': 'United States o...    1995-12-22  ...   \n",
      "4  [{'iso_3166_1': 'US', 'name': 'United States o...    1995-02-10  ...   \n",
      "\n",
      "   release_date      revenue runtime  \\\n",
      "0    1995-10-30  373554033.0    81.0   \n",
      "1    1995-12-15  262797249.0   104.0   \n",
      "2    1995-12-22          0.0   101.0   \n",
      "3    1995-12-22   81452156.0   127.0   \n",
      "4    1995-02-10   76578911.0   106.0   \n",
      "\n",
      "                                    spoken_languages    status  \\\n",
      "0           [{'iso_639_1': 'en', 'name': 'English'}]  Released   \n",
      "1  [{'iso_639_1': 'en', 'name': 'English'}, {'iso...  Released   \n",
      "2           [{'iso_639_1': 'en', 'name': 'English'}]  Released   \n",
      "3           [{'iso_639_1': 'en', 'name': 'English'}]  Released   \n",
      "4           [{'iso_639_1': 'en', 'name': 'English'}]  Released   \n",
      "\n",
      "                                             tagline  \\\n",
      "0                                                NaN   \n",
      "1          Roll the dice and unleash the excitement!   \n",
      "2  Still Yelling. Still Fighting. Still Ready for...   \n",
      "3  Friends are the people who let you be yourself...   \n",
      "4  Just When His World Is Back To Normal... He's ...   \n",
      "\n",
      "                         title  video  vote_average  vote_count  \n",
      "0                    Toy Story  False           7.7      5415.0  \n",
      "1                      Jumanji  False           6.9      2413.0  \n",
      "2             Grumpier Old Men  False           6.5        92.0  \n",
      "3            Waiting to Exhale  False           6.1        34.0  \n",
      "4  Father of the Bride Part II  False           5.7       173.0  \n",
      "\n",
      "[5 rows x 44 columns]\n"
     ]
    }
   ],
   "source": [
    "# Leer el archivo CSV movies_dataset.csv\n",
    "file_path_movies = r'C:\\Users\\walter\\Desktop\\N1_PI\\PI_IRENE\\Datos_originales\\datos_originales\\movies_dataset.csv'\n",
    "df_movies = pd.read_csv(file_path_movies)\n",
    "\n",
    "# Leer el archivo CSV credits.csv\n",
    "file_path_credits = r'C:\\Users\\walter\\Desktop\\N1_PI\\PI_IRENE\\Datos_originales\\datos_originales\\movies_dataset.csv'\n",
    "df_credits = pd.read_csv(file_path_credits)\n",
    "\n",
    "# Rellenar los valores nulos de las columnas 'revenue' y 'budget' en df_movies con 0\n",
    "df_movies['revenue'].fillna(0, inplace=True)\n",
    "df_movies['budget'].fillna(0, inplace=True)\n",
    "\n",
    "# Asegurarse de que 'revenue' y 'budget' en df_movies sean numéricos\n",
    "df_movies['revenue'] = pd.to_numeric(df_movies['revenue'], errors='coerce').fillna(0)\n",
    "df_movies['budget'] = pd.to_numeric(df_movies['budget'], errors='coerce').fillna(0)\n",
    "\n",
    "# Eliminar las filas con valores nulos en la columna 'release_date' en df_movies\n",
    "df_movies.dropna(subset=['release_date'], inplace=True)\n",
    "\n",
    "# Convertir las fechas a formato AAAA-mm-dd en df_movies\n",
    "df_movies['release_date'] = pd.to_datetime(df_movies['release_date'], errors='coerce').dt.strftime('%Y-%m-%d')\n",
    "\n",
    "# Crear la columna 'release_year' en df_movies\n",
    "df_movies['release_year'] = pd.to_datetime(df_movies['release_date'], errors='coerce').dt.year\n",
    "\n",
    "# Crear la columna 'return' (evitando división por cero y valores faltantes) en df_movies\n",
    "df_movies['return'] = df_movies.apply(lambda row: (row['revenue'] / row['budget']) if row['budget'] != 0 else 0, axis=1)\n",
    "df_movies['return'].fillna(0, inplace=True)\n",
    "\n",
    "# Eliminar las columnas especificadas en df_movies\n",
    "columns_to_drop = ['video', 'imdb_id', 'adult', 'original_title', 'poster_path', 'homepage']\n",
    "df_movies.drop(columns_to_drop, axis=1, inplace=True)\n",
    "\n",
    "# Mostrar las primeras filas del DataFrame df_movies para verificar los cambios\n",
    "print(\"Primeras filas del DataFrame df_movies después de rellenar valores nulos, eliminar columnas y formatear las fechas:\")\n",
    "print(df_movies.head())\n",
    "\n",
    "# Mostrar las primeras filas del DataFrame df_credits para entender su estructura\n",
    "print(\"\\nPrimeras filas del DataFrame df_credits:\")\n",
    "print(df_credits.head())\n",
    "\n",
    "# Alinear los índices de ambos DataFrames si es necesario\n",
    "df_movies.reset_index(drop=True, inplace=True)\n",
    "df_credits.reset_index(drop=True, inplace=True)\n",
    "\n",
    "# Concatenar df_movies y df_credits para formar un solo DataFrame combinado\n",
    "combined_df = pd.concat([df_movies, df_credits], axis=1)\n",
    "\n",
    "# Mostrar el DataFrame combinado\n",
    "print(\"\\nDataFrame combinado:\")\n",
    "print(combined_df.head())\n"
   ]
  },
  {
   "cell_type": "markdown",
   "metadata": {},
   "source": [
    "Proceso de EDA"
   ]
  },
  {
   "cell_type": "code",
   "execution_count": 5,
   "metadata": {},
   "outputs": [
    {
     "name": "stdout",
     "output_type": "stream",
     "text": [
      "Valores nulos por columna:\n",
      "belongs_to_collection    40975\n",
      "budget                      87\n",
      "genres                      87\n",
      "id                          87\n",
      "original_language           98\n",
      "overview                  1028\n",
      "popularity                  89\n",
      "production_companies        87\n",
      "production_countries        87\n",
      "release_date                90\n",
      "revenue                     87\n",
      "runtime                    336\n",
      "spoken_languages            90\n",
      "status                     170\n",
      "tagline                  25068\n",
      "title                       90\n",
      "vote_average                90\n",
      "vote_count                  90\n",
      "release_year                90\n",
      "return                      87\n",
      "adult                        0\n",
      "belongs_to_collection    40972\n",
      "budget                       0\n",
      "genres                       0\n",
      "homepage                 37684\n",
      "id                           0\n",
      "imdb_id                     17\n",
      "original_language           11\n",
      "original_title               0\n",
      "overview                   954\n",
      "popularity                   5\n",
      "poster_path                386\n",
      "production_companies         3\n",
      "production_countries         3\n",
      "release_date                87\n",
      "revenue                      6\n",
      "runtime                    263\n",
      "spoken_languages             6\n",
      "status                      87\n",
      "tagline                  25054\n",
      "title                        6\n",
      "video                        6\n",
      "vote_average                 6\n",
      "vote_count                   6\n",
      "dtype: int64\n"
     ]
    }
   ],
   "source": [
    "# Verificar valores nulos en el DataFrame\n",
    "nulos_por_columna = combined_df.isnull().sum()\n",
    "    \n",
    "#Mostrar los valores nulos por columna\n",
    "print(\"Valores nulos por columna:\")\n",
    "print(nulos_por_columna)\n"
   ]
  },
  {
   "cell_type": "code",
   "execution_count": 6,
   "metadata": {},
   "outputs": [
    {
     "name": "stdout",
     "output_type": "stream",
     "text": [
      "0\n"
     ]
    }
   ],
   "source": [
    "# Verificar duplicados \n",
    "duplicados = combined_df.duplicated()\n",
    "num_duplicados = duplicados.sum()\n",
    "print(num_duplicados)"
   ]
  },
  {
   "cell_type": "code",
   "execution_count": 10,
   "metadata": {},
   "outputs": [],
   "source": [
    "\n",
    "# Eliminar filas con cualquier valor nulo\n",
    "combined_df_sin_nulos = combined_df.dropna()\n",
    "    "
   ]
  },
  {
   "cell_type": "code",
   "execution_count": 11,
   "metadata": {},
   "outputs": [
    {
     "name": "stdout",
     "output_type": "stream",
     "text": [
      "Valores nulos por columna en combined_df después de eliminar:\n",
      "belongs_to_collection    0\n",
      "budget                   0\n",
      "genres                   0\n",
      "id                       0\n",
      "original_language        0\n",
      "overview                 0\n",
      "popularity               0\n",
      "production_companies     0\n",
      "production_countries     0\n",
      "release_date             0\n",
      "revenue                  0\n",
      "runtime                  0\n",
      "spoken_languages         0\n",
      "status                   0\n",
      "tagline                  0\n",
      "title                    0\n",
      "vote_average             0\n",
      "vote_count               0\n",
      "release_year             0\n",
      "return                   0\n",
      "cast                     0\n",
      "crew                     0\n",
      "id                       0\n",
      "dtype: int64\n"
     ]
    }
   ],
   "source": [
    "# Verificar nuevamente los valores nulos después de eliminar\n",
    "nulos_por_columna_despues = combined_df_sin_nulos.isnull().sum()\n",
    "print(\"Valores nulos por columna en combined_df después de eliminar:\")\n",
    "print(nulos_por_columna_despues)\n"
   ]
  },
  {
   "cell_type": "code",
   "execution_count": 12,
   "metadata": {},
   "outputs": [
    {
     "name": "stdout",
     "output_type": "stream",
     "text": [
      "Tipos de datos por columna en combined_df:\n",
      "belongs_to_collection     object\n",
      "budget                   float64\n",
      "genres                    object\n",
      "id                        object\n",
      "original_language         object\n",
      "overview                  object\n",
      "popularity                object\n",
      "production_companies      object\n",
      "production_countries      object\n",
      "release_date              object\n",
      "revenue                  float64\n",
      "runtime                  float64\n",
      "spoken_languages          object\n",
      "status                    object\n",
      "tagline                   object\n",
      "title                     object\n",
      "vote_average             float64\n",
      "vote_count               float64\n",
      "release_year             float64\n",
      "return                   float64\n",
      "cast                      object\n",
      "crew                      object\n",
      "id                         int64\n",
      "dtype: object\n"
     ]
    }
   ],
   "source": [
    " # Verificar los tipos de datos en el DataFrame combinado\n",
    "tipos_de_datos = combined_df.dtypes\n",
    "print(\"Tipos de datos por columna en combined_df:\")\n",
    "print(tipos_de_datos)\n"
   ]
  },
  {
   "cell_type": "code",
   "execution_count": 13,
   "metadata": {},
   "outputs": [
    {
     "name": "stdout",
     "output_type": "stream",
     "text": [
      "Resumen estadístico de las columnas numéricas en combined_df:\n",
      "             budget       revenue       runtime  vote_average    vote_count  \\\n",
      "count  4.537900e+04  4.537900e+04  45130.000000  45376.000000  45376.000000   \n",
      "mean   4.232325e+06  1.122936e+07     94.181675      5.624070    110.096439   \n",
      "std    1.743932e+07  6.438789e+07     38.341059      1.915423    491.742894   \n",
      "min    0.000000e+00  0.000000e+00      0.000000      0.000000      0.000000   \n",
      "25%    0.000000e+00  0.000000e+00     85.000000      5.000000      3.000000   \n",
      "50%    0.000000e+00  0.000000e+00     95.000000      6.000000     10.000000   \n",
      "75%    0.000000e+00  0.000000e+00    107.000000      6.800000     34.000000   \n",
      "max    3.800000e+08  2.787965e+09   1256.000000     10.000000  14075.000000   \n",
      "\n",
      "       release_year        return             id  \n",
      "count  45376.000000  4.537900e+04   45476.000000  \n",
      "mean    1991.881193  6.599991e+02  108345.997537  \n",
      "std       24.055360  7.469083e+04  112443.796536  \n",
      "min     1874.000000  0.000000e+00       2.000000  \n",
      "25%     1978.000000  0.000000e+00   26443.250000  \n",
      "50%     2001.000000  0.000000e+00   60002.500000  \n",
      "75%     2010.000000  0.000000e+00  157302.000000  \n",
      "max     2020.000000  1.239638e+07  469172.000000  \n"
     ]
    }
   ],
   "source": [
    "\n",
    "# Obtener un resumen estadístico de las columnas numéricas\n",
    "resumen_estadistico = combined_df.describe()\n",
    "print(\"Resumen estadístico de las columnas numéricas en combined_df:\")\n",
    "print(resumen_estadistico)"
   ]
  },
  {
   "cell_type": "code",
   "execution_count": 7,
   "metadata": {},
   "outputs": [
    {
     "name": "stdout",
     "output_type": "stream",
     "text": [
      "Estadísticas descriptivas de 'budget':\n",
      "             budget\n",
      "count  4.537900e+04\n",
      "mean   4.232325e+06\n",
      "std    1.743932e+07\n",
      "min    0.000000e+00\n",
      "25%    0.000000e+00\n",
      "50%    0.000000e+00\n",
      "75%    0.000000e+00\n",
      "max    3.800000e+08\n"
     ]
    }
   ],
   "source": [
    "\n",
    "# Estadísticas descriptivas de la columna 'budget'\n",
    "estadisticas_budget = combined_df['budget'].describe()\n",
    "print(\"Estadísticas descriptivas de 'budget':\")\n",
    "print(estadisticas_budget)"
   ]
  },
  {
   "cell_type": "code",
   "execution_count": 8,
   "metadata": {},
   "outputs": [
    {
     "name": "stdout",
     "output_type": "stream",
     "text": [
      "Estadísticas descriptivas de 'revenue': \n",
      "            revenue       revenue\n",
      "count  4.537900e+04  4.546000e+04\n",
      "mean   1.122936e+07  1.120935e+07\n",
      "std    6.438789e+07  6.433225e+07\n",
      "min    0.000000e+00  0.000000e+00\n",
      "25%    0.000000e+00  0.000000e+00\n",
      "50%    0.000000e+00  0.000000e+00\n",
      "75%    0.000000e+00  0.000000e+00\n",
      "max    2.787965e+09  2.787965e+09\n"
     ]
    }
   ],
   "source": [
    "# Estadísticas descriptivas de la columna 'revenue'\n",
    "estadisticas_revenue = combined_df['revenue'].describe()\n",
    "print(\"Estadísticas descriptivas de 'revenue': \")\n",
    "print(estadisticas_revenue)\n",
    "    "
   ]
  },
  {
   "cell_type": "code",
   "execution_count": 9,
   "metadata": {},
   "outputs": [
    {
     "data": {
      "image/png": "[encoded data removed]",
      "text/plain": [
       "<Figure size 640x480 with 1 Axes>"
      ]
     },
     "metadata": {},
     "output_type": "display_data"
    }
   ],
   "source": [
    "# Histograma de la columna 'budget'\n",
    "combined_df['budget'].hist(bins=50)\n",
    "plt.title('Distribución de Budget')\n",
    "plt.xlabel('Budget')\n",
    "plt.ylabel('Frecuencia')\n",
    "plt.show()\n",
    "    "
   ]
  },
  {
   "cell_type": "code",
   "execution_count": 10,
   "metadata": {},
   "outputs": [
    {
     "data": {
      "image/png": "[encoded data removed]",
      "text/plain": [
       "<Figure size 640x480 with 2 Axes>"
      ]
     },
     "metadata": {},
     "output_type": "display_data"
    }
   ],
   "source": [
    "    \n",
    "# Histograma de la columna 'revenue'\n",
    "combined_df['revenue'].hist(bins=50)\n",
    "plt.title('Distribución de Revenue')\n",
    "plt.xlabel('Revenue')\n",
    "plt.ylabel('Frecuencia')\n",
    "plt.show()"
   ]
  },
  {
   "cell_type": "code",
   "execution_count": 11,
   "metadata": {},
   "outputs": [
    {
     "data": {
      "image/png": "[encoded data removed]",
      "text/plain": [
       "<Figure size 640x480 with 1 Axes>"
      ]
     },
     "metadata": {},
     "output_type": "display_data"
    }
   ],
   "source": [
    "# Gráfico de caja de la columna 'budget'\n",
    "combined_df.boxplot(column='budget')\n",
    "plt.title('Caja de Budget')\n",
    "plt.ylabel('Budget')\n",
    "plt.show()"
   ]
  },
  {
   "cell_type": "code",
   "execution_count": 12,
   "metadata": {},
   "outputs": [
    {
     "data": {
      "image/png": "[encoded data removed]",
      "text/plain": [
       "<Figure size 640x480 with 1 Axes>"
      ]
     },
     "metadata": {},
     "output_type": "display_data"
    }
   ],
   "source": [
    "# Gráfico de caja de la columna 'revenue'\n",
    "combined_df.boxplot(column='revenue')\n",
    "plt.title('Caja de Revenue')\n",
    "plt.ylabel('Revenue')\n",
    "plt.show()\n",
    "\n"
   ]
  },
  {
   "cell_type": "markdown",
   "metadata": {},
   "source": [
    "Por ultimo guardo en un archivo csv al df final"
   ]
  },
  {
   "cell_type": "code",
   "execution_count": 14,
   "metadata": {},
   "outputs": [
    {
     "name": "stdout",
     "output_type": "stream",
     "text": [
      "DataFrame combinado guardado en: C:\\Users\\walter\\Desktop\\N1_PI\\PI_IRENE\\ETL-EDA\\data.csv\n"
     ]
    }
   ],
   "source": [
    "# Guardar el DataFrame combinado en un archivo CSV\n",
    "output_file = r'C:\\Users\\walter\\Desktop\\N1_PI\\PI_IRENE\\ETL-EDA\\data.csv'\n",
    "combined_df.to_csv(output_file, index=False)\n",
    "\n",
    "print(f\"DataFrame combinado guardado en: {output_file}\")\n"
   ]
  }
 ],
 "metadata": {
  "kernelspec": {
   "display_name": "Python 3",
   "language": "python",
   "name": "python3"
  },
  "language_info": {
   "codemirror_mode": {
    "name": "ipython",
    "version": 3
   },
   "file_extension": ".py",
   "mimetype": "text/x-python",
   "name": "python",
   "nbconvert_exporter": "python",
   "pygments_lexer": "ipython3",
   "version": "3.11.4"
  }
 },
 "nbformat": 4,
 "nbformat_minor": 2
}
